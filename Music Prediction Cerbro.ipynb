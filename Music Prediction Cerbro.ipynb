{
 "cells": [
  {
   "cell_type": "code",
   "execution_count": 270,
   "id": "93dda01f",
   "metadata": {},
   "outputs": [],
   "source": [
    "import torch\n",
    "import torch.nn as nn\n",
    "import numpy as np\n",
    "import pandas as pd\n",
    "import torchvision\n",
    "import torchvision.transforms as transforms\n",
    "import matplotlib.pyplot as plt\n",
    "from torch.utils.data import Dataset, DataLoader\n",
    "from sklearn import preprocessing\n",
    "from sklearn.preprocessing import StandardScaler"
   ]
  },
  {
   "cell_type": "code",
   "execution_count": 271,
   "id": "d709321e",
   "metadata": {},
   "outputs": [],
   "source": [
    "class MusicDataset(Dataset):\n",
    "    \n",
    "    def __init__(self):\n",
    "        df_train = pd.read_csv('datasets/music_train.csv').drop(columns=['id']).iloc[:13700,:]\n",
    "        columnNames = [\"genre\",\"release_date\", \"dating\",\"violence\",\"world/life\",\"night/time\",\"shake the audience\",\"family/gospel\",\"romantic\",\"communication\",\"obscene\",\"music\",\"movement/places\",\"light/visual perceptions\",\"family/spiritual\",\"like/girls\",\"sadness\",\"feelings\",\"danceability\",\"loudness\",\"acousticness\",\"instrumentalness\",\"valence\",\"energy\",\"age\",\"topic\"]\n",
    "        df_train = df_train.reindex(columns = columnNames)\n",
    "        df_train.dropna(axis=0, how='all', subset=['topic'], inplace=True)\n",
    "        i=0\n",
    "        for (col, colValue) in df_train.iteritems():\n",
    "            mean_val = df_train[col].mean()\n",
    "            df_train[col].fillna(value=mean_val, inplace=True)\n",
    "        \n",
    "    \n",
    "        tmp1 = df_train.values\n",
    "        self.x_data = torch.from_numpy(tmp1[:, 1:])\n",
    "        self.y_data = torch.from_numpy(tmp1[:,0])\n",
    "        self.n_samples = tmp1.shape[0]\n",
    "        \n",
    "        \n",
    "    def __getitem__(self, index):\n",
    "        return self.x_data[index], self.y_data[index]\n",
    "    \n",
    "    \n",
    "    def __len__(self):\n",
    "        return self.n_samples\n",
    "        \n",
    "        \n",
    "\n",
    "        \n",
    "        \n",
    "        "
   ]
  },
  {
   "cell_type": "code",
   "execution_count": 272,
   "id": "c0d88eda",
   "metadata": {},
   "outputs": [],
   "source": [
    "class MusicValidationDataset(Dataset):\n",
    "    \n",
    "    def __init__(self):\n",
    "        df_test = pd.read_csv('datasets/music_train.csv').drop(columns=['id']).iloc[13700:,:]\n",
    "        columnNames = [\"genre\",\"release_date\", \"dating\",\"violence\",\"world/life\",\"night/time\",\"shake the audience\",\"family/gospel\",\"romantic\",\"communication\",\"obscene\",\"music\",\"movement/places\",\"light/visual perceptions\",\"family/spiritual\",\"like/girls\",\"sadness\",\"feelings\",\"danceability\",\"loudness\",\"acousticness\",\"instrumentalness\",\"valence\",\"energy\",\"age\",\"topic\"]\n",
    "        df_test = df_test.reindex(columns = columnNames)\n",
    "        df_test.dropna(axis=0, how='all', subset=['topic'], inplace=True)\n",
    "        i=0\n",
    "        for (col, colValue) in df_test.iteritems():\n",
    "            mean_val = df_test[col].mean()\n",
    "            df_test[col].fillna(value=mean_val, inplace=True)\n",
    "        \n",
    "    \n",
    "        tmp2 = df_test.values\n",
    "        self.x_test_data = torch.from_numpy(tmp2[:, 1:])\n",
    "        self.y_test_data = torch.from_numpy(tmp2[:, 0])\n",
    "        self.n_test_samples = tmp2.shape[0]\n",
    "        \n",
    "        \n",
    "    def __getitem__(self, index):\n",
    "        return self.x_test_data[index], self.y_test_data[index]\n",
    "    \n",
    "    \n",
    "    def __len__(self):\n",
    "        return self.n_test_samples\n",
    "        \n",
    "        \n",
    "\n",
    "        \n",
    "        \n",
    "   "
   ]
  },
  {
   "cell_type": "code",
   "execution_count": 273,
   "id": "3ad0d636",
   "metadata": {},
   "outputs": [],
   "source": [
    "dataset = MusicDataset()"
   ]
  },
  {
   "cell_type": "code",
   "execution_count": 274,
   "id": "ea8c7bdf",
   "metadata": {},
   "outputs": [],
   "source": [
    "train_loader = DataLoader(dataset=dataset, batch_size=200, shuffle=True)\n"
   ]
  },
  {
   "cell_type": "code",
   "execution_count": 275,
   "id": "93597e98",
   "metadata": {},
   "outputs": [],
   "source": [
    "validation_dataset = MusicValidationDataset()\n",
    "validation_loader = DataLoader(dataset=validation_dataset, batch_size=200, shuffle=False)"
   ]
  },
  {
   "cell_type": "code",
   "execution_count": 276,
   "id": "e83eb7ad",
   "metadata": {},
   "outputs": [],
   "source": [
    "input_size = 25\n",
    "learning_rate=0.01\n",
    "hidden_size1=50\n",
    "hidden_size2 = 100\n",
    "num_classes =7\n",
    "num_epochs = 2"
   ]
  },
  {
   "cell_type": "code",
   "execution_count": 277,
   "id": "c0a0be29",
   "metadata": {},
   "outputs": [],
   "source": [
    "class NeuralNet(nn.Module):\n",
    "    def __init__(self, input_size, hidden_size1,hidden_size2, num_classes):\n",
    "        super(NeuralNet, self).__init__()\n",
    "        self.input_size = input_size\n",
    "        self.l1 = nn.Linear(input_size, hidden_size1)\n",
    "        self.relu = nn.ReLU()\n",
    "#         self.l2 = nn.Linear(hidden_size, num_classes)\n",
    "        self.l2 = nn.Linear(hidden_size1, hidden_size2)\n",
    "        self.relu = nn.ReLU()\n",
    "        self.l3 = nn.Linear(hidden_size2, num_classes)\n",
    "        \n",
    "    def forward(self, x):\n",
    "        out = self.l1(x)\n",
    "        out = self.relu(out)\n",
    "        out = self.l2(out)\n",
    "        out = self.relu(out)\n",
    "        out = self.l3(out)\n",
    "        \n",
    "        return out\n",
    "\n",
    "    \n",
    "model = NeuralNet(input_size, hidden_size1,hidden_size2 ,num_classes)\n",
    "\n",
    "criterion = nn.CrossEntropyLoss()\n",
    "optimizer = torch.optim.Adam(model.parameters(), lr=learning_rate)  "
   ]
  },
  {
   "cell_type": "code",
   "execution_count": 278,
   "id": "3f5b1f32",
   "metadata": {},
   "outputs": [
    {
     "name": "stdout",
     "output_type": "stream",
     "text": [
      "Epoch [1/2], Step [1/66], Loss: 47.3143\n",
      "Epoch [1/2], Step [11/66], Loss: 35.5753\n",
      "Epoch [1/2], Step [21/66], Loss: 3.9869\n",
      "Epoch [1/2], Step [31/66], Loss: 1.9199\n",
      "Epoch [1/2], Step [41/66], Loss: 1.9086\n",
      "Epoch [1/2], Step [51/66], Loss: 1.8947\n",
      "Epoch [1/2], Step [61/66], Loss: 1.8471\n",
      "Epoch [2/2], Step [1/66], Loss: 1.8963\n",
      "Epoch [2/2], Step [11/66], Loss: 1.8554\n",
      "Epoch [2/2], Step [21/66], Loss: 1.8890\n",
      "Epoch [2/2], Step [31/66], Loss: 1.8917\n",
      "Epoch [2/2], Step [41/66], Loss: 1.8229\n",
      "Epoch [2/2], Step [51/66], Loss: 1.8857\n",
      "Epoch [2/2], Step [61/66], Loss: 1.8585\n"
     ]
    }
   ],
   "source": [
    "# training the model\n",
    "n_total_steps = len(train_loader)\n",
    "\n",
    "for epoch in range(num_epochs):\n",
    "    for i, (inputs, targets) in enumerate(train_loader):\n",
    "\n",
    "        outputs = model.forward(inputs.float())\n",
    "        targets= targets.long()\n",
    "                \n",
    "        loss = criterion(outputs, targets)\n",
    "        \n",
    "        optimizer.zero_grad()\n",
    "        loss.backward()\n",
    "        optimizer.step()\n",
    "        \n",
    "\n",
    "        \n",
    "        if (i) % 10 == 0:\n",
    "             print (f'Epoch [{epoch+1}/{num_epochs}], Step [{i+1}/{n_total_steps}], Loss: {loss.item():.4f}')\n",
    "\n"
   ]
  },
  {
   "cell_type": "code",
   "execution_count": 279,
   "id": "eddbf7f6",
   "metadata": {},
   "outputs": [],
   "source": [
    "class MusicTestDataset(Dataset):\n",
    "    \n",
    "    def __init__(self):\n",
    "        df_test = pd.read_csv('datasets/music_test.csv').drop(columns=['id'])\n",
    "        columnNames = [\"release_date\", \"dating\",\"violence\",\"world/life\",\"night/time\",\"shake the audience\",\"family/gospel\",\"romantic\",\"communication\",\"obscene\",\"music\",\"movement/places\",\"light/visual perceptions\",\"family/spiritual\",\"like/girls\",\"sadness\",\"feelings\",\"danceability\",\"loudness\",\"acousticness\",\"instrumentalness\",\"valence\",\"energy\",\"age\",\"topic\"]\n",
    "        df_test = df_test.reindex(columns = columnNames)\n",
    "        i=0\n",
    "        for (col, colValue) in df_test.iteritems():\n",
    "            mean_val = df_test[col].mean()\n",
    "            df_test[col].fillna(value=mean_val, inplace=True)\n",
    "        \n",
    "    \n",
    "        tmp2 = df_test.values\n",
    "        self.x_test_data = torch.from_numpy(tmp2[:, :])\n",
    "        self.n_test_samples = tmp2.shape[0]\n",
    "        \n",
    "        \n",
    "    def __getitem__(self, index):\n",
    "        return self.x_test_data[index] \n",
    "    \n",
    "    \n",
    "    def __len__(self):\n",
    "        return self.n_test_samples\n",
    "        \n",
    "        \n",
    "\n",
    "        \n",
    "        \n",
    "   "
   ]
  },
  {
   "cell_type": "code",
   "execution_count": 280,
   "id": "6ab9ffbe",
   "metadata": {},
   "outputs": [],
   "source": [
    "test_data = MusicTestDataset()\n",
    "test_loader = DataLoader(dataset=test_data, batch_size=200,shuffle=False)"
   ]
  },
  {
   "cell_type": "code",
   "execution_count": 281,
   "id": "b1dd55f9",
   "metadata": {},
   "outputs": [],
   "source": [
    "with torch.no_grad():\n",
    "    n_correct_test = 0\n",
    "    n_samples_test = 0\n",
    "    i=0\n",
    "    predictions = np.empty((0,))\n",
    "    for inputs_test in test_loader:\n",
    "        outputs_test = model(inputs_test.float())\n",
    "        _,predicted_test = torch.max(outputs_test.data, 1)\n",
    "        predictions = np.append(predictions,predicted_test.numpy())\n",
    "\n"
   ]
  },
  {
   "cell_type": "code",
   "execution_count": 282,
   "id": "763c36e7",
   "metadata": {},
   "outputs": [],
   "source": [
    "predictions_column = pd.Series(predictions, name=\"genre\")\n",
    "\n",
    "\n",
    "music_test_dataset_id = pd.read_csv('datasets/music_test.csv')\n",
    "id_column = pd.Series(music_test_dataset_id.id, name=\"id\")\n",
    "\n",
    "submission_df = pd.merge(id_column , predictions_column, right_index=True, left_index=True)\n",
    "submission_df.to_csv('submission_df_music.csv', index=False)"
   ]
  },
  {
   "cell_type": "code",
   "execution_count": null,
   "id": "da806765",
   "metadata": {},
   "outputs": [],
   "source": []
  }
 ],
 "metadata": {
  "kernelspec": {
   "display_name": "Python 3",
   "language": "python",
   "name": "python3"
  },
  "language_info": {
   "codemirror_mode": {
    "name": "ipython",
    "version": 3
   },
   "file_extension": ".py",
   "mimetype": "text/x-python",
   "name": "python",
   "nbconvert_exporter": "python",
   "pygments_lexer": "ipython3",
   "version": "3.8.8"
  }
 },
 "nbformat": 4,
 "nbformat_minor": 5
}
